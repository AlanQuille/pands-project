{
 "cells": [
  {
   "cell_type": "markdown",
   "metadata": {},
   "source": [
    "# Investigation of the Iris flower data set"
   ]
  },
  {
   "cell_type": "markdown",
   "metadata": {},
   "source": [
    "## Table of contents\n",
    "1. [Introduction](#introduction)\n",
    "\n",
    "2. [Questioning](#questioning)\n",
    "\n",
    "3. [Wrangling](#wrangling)\n",
    "\n",
    "    3.1. [Import libraries](#31)\n",
    "    \n",
    "    3.2. [Read in Iris flower dataset from csv file](#32)\n",
    "    \n",
    "4. [Exploration](#exploration)\n",
    "   \n",
    "    4.1 [Average values of attributes](#41)\n",
    "    \n",
    "    4.2 [Median values of attributes](#42)\n",
    "    \n",
    "    4.3 [Difference between medians and means](#43)\n",
    "    \n",
    "    4.4 [Shapiro-Wilk test for normality](#44)\n",
    "    \n",
    "    4.5 [Difference between means](#45)\n",
    "    \n",
    "    4.6 [Test for statistical significance ](#46)\n",
    "    \n",
    "5. [Conclusions](#conclusions)\n",
    "\n",
    "6. [Bibliography](#bibliography)"
   ]
  },
  {
   "cell_type": "markdown",
   "metadata": {},
   "source": [
    "## 1 Introduction <a name=\"introduction\"></a>\n",
    "The purpose of this project is to analyse data describing variation in the structure of three species of Iris flowers. The dataset to be analysed is called the Iris flower data set.\n",
    "\n",
    "The Iris Flower data set was introduced in 1936 in an article written by the statistician Ronald Fisher called \"The Use of Multiple Measurements in Taxonomic problems. It is also called Anderson Iris Dataset after Edgar Anderson, the individual who collected the measurements of the flowers in the dataset. [1](#ref1)\n",
    "\n",
    "The variation in the flowers is described by 4 attributes, namely sepal length, sepal width, petal length and petal width. The 3 species of flowers are setosa, versicolor and virginica. There are 50 data points for each species with 150 data points (or instances) in total. [2](#ref2)\n",
    "\n",
    "It consists of 3 classes of 50 instances with 4 attributes, namely sepal and petal length and width. The 3 classes in question are species of iris flower and they are setosa, versicolor and viriginica. The attributes are length and width of the sepals and petals of the flowers.[3](#ref3)\n",
    "\n",
    "The project will follow the standard data analytics procedure of questioning, wrangling, exploration and drawing conclusions. This report forms the final stage of this process (reporting)."
   ]
  },
  {
   "cell_type": "markdown",
   "metadata": {},
   "source": [
    "## 2 Questioning <a name=\"questioning\"></a>\n",
    "\n",
    "In this analysis, the statistics of the attributes of the flowers will be studied to determine the relationships between them. In particular, these five questions will be answered about the flowers:\n",
    "\n",
    "1. What are the average or mean values of the attributes for different species of Iris flower?\n",
    "2. What are the median values of the attributes for different species of Iris flower?\n",
    "3. Do they differ by a large margin? If so, what does that mean for the distributions of the attributes?\n",
    "4. Are the attributes normally distributed?\n",
    "5. What is the difference between average values of the attributes for different species of Iris Flower?\n",
    "6. Are these differences statistically significant?\n",
    "\n",
    "To obtain the information, the data was first wrangled."
   ]
  },
  {
   "cell_type": "markdown",
   "metadata": {},
   "source": [
    "## 3 Wrangling <a name=\"wrangling\"></a>\n",
    "The data is imported from the CSV file \"iris.csv\", obtained from the website. First, the appropriate libraries are imported to import and display the data:"
   ]
  },
  {
   "cell_type": "markdown",
   "metadata": {},
   "source": [
    "### 3.1 Import libraries <a name=\"31\"></a>"
   ]
  },
  {
   "cell_type": "code",
   "execution_count": null,
   "metadata": {},
   "outputs": [],
   "source": [
    "#Import pandas to import and display CSV data as dataframe\n",
    "import pandas as pd\n",
    "#Import and start seaborn to make plots look better\n",
    "import seaborn as sns\n",
    "sns.set()\n",
    "#Import scipy library for tests for statistical significance\n",
    "from scipy import stats\n",
    "#Import pyplot for more plotting options\n",
    "import matplotlib.pyplot as plt\n",
    "#Import shapiro for Shapiro-Wilk test for normality\n",
    "from scipy.stats import shapiro"
   ]
  },
  {
   "cell_type": "markdown",
   "metadata": {},
   "source": [
    "### 3.2 Read in Iris flower dataset from csv file <a name=\"32\"></a>\n",
    "\n",
    "The data is then set as a Pandas dataframe called df. This dataframe has the attributes petal length, petal width, sepal length , sepal width and the species of each flower collected in the sample. The data is loaded into the dataframe in the following cell:"
   ]
  },
  {
   "cell_type": "code",
   "execution_count": 3,
   "metadata": {},
   "outputs": [],
   "source": [
    "#df is the main dataframe that will be used.\n",
    "df = pd.read_csv(\"iris.csv\")"
   ]
  },
  {
   "cell_type": "markdown",
   "metadata": {},
   "source": [
    "The first 5 entries of the dataframe are shown in the following cell:"
   ]
  },
  {
   "cell_type": "code",
   "execution_count": 4,
   "metadata": {},
   "outputs": [
    {
     "data": {
      "text/html": [
       "<div>\n",
       "<style scoped>\n",
       "    .dataframe tbody tr th:only-of-type {\n",
       "        vertical-align: middle;\n",
       "    }\n",
       "\n",
       "    .dataframe tbody tr th {\n",
       "        vertical-align: top;\n",
       "    }\n",
       "\n",
       "    .dataframe thead th {\n",
       "        text-align: right;\n",
       "    }\n",
       "</style>\n",
       "<table border=\"1\" class=\"dataframe\">\n",
       "  <thead>\n",
       "    <tr style=\"text-align: right;\">\n",
       "      <th></th>\n",
       "      <th>sepal_length</th>\n",
       "      <th>sepal_width</th>\n",
       "      <th>petal_length</th>\n",
       "      <th>petal_width</th>\n",
       "      <th>species</th>\n",
       "    </tr>\n",
       "  </thead>\n",
       "  <tbody>\n",
       "    <tr>\n",
       "      <td>0</td>\n",
       "      <td>5.1</td>\n",
       "      <td>3.5</td>\n",
       "      <td>1.4</td>\n",
       "      <td>0.2</td>\n",
       "      <td>setosa</td>\n",
       "    </tr>\n",
       "    <tr>\n",
       "      <td>1</td>\n",
       "      <td>4.9</td>\n",
       "      <td>3.0</td>\n",
       "      <td>1.4</td>\n",
       "      <td>0.2</td>\n",
       "      <td>setosa</td>\n",
       "    </tr>\n",
       "    <tr>\n",
       "      <td>2</td>\n",
       "      <td>4.7</td>\n",
       "      <td>3.2</td>\n",
       "      <td>1.3</td>\n",
       "      <td>0.2</td>\n",
       "      <td>setosa</td>\n",
       "    </tr>\n",
       "    <tr>\n",
       "      <td>3</td>\n",
       "      <td>4.6</td>\n",
       "      <td>3.1</td>\n",
       "      <td>1.5</td>\n",
       "      <td>0.2</td>\n",
       "      <td>setosa</td>\n",
       "    </tr>\n",
       "    <tr>\n",
       "      <td>4</td>\n",
       "      <td>5.0</td>\n",
       "      <td>3.6</td>\n",
       "      <td>1.4</td>\n",
       "      <td>0.2</td>\n",
       "      <td>setosa</td>\n",
       "    </tr>\n",
       "  </tbody>\n",
       "</table>\n",
       "</div>"
      ],
      "text/plain": [
       "   sepal_length  sepal_width  petal_length  petal_width species\n",
       "0           5.1          3.5           1.4          0.2  setosa\n",
       "1           4.9          3.0           1.4          0.2  setosa\n",
       "2           4.7          3.2           1.3          0.2  setosa\n",
       "3           4.6          3.1           1.5          0.2  setosa\n",
       "4           5.0          3.6           1.4          0.2  setosa"
      ]
     },
     "execution_count": 4,
     "metadata": {},
     "output_type": "execute_result"
    }
   ],
   "source": [
    "df.head()"
   ]
  },
  {
   "cell_type": "markdown",
   "metadata": {},
   "source": [
    "The number of null, N/A or blank entries must be determined to see if data is missing:"
   ]
  },
  {
   "cell_type": "code",
   "execution_count": 5,
   "metadata": {
    "scrolled": true
   },
   "outputs": [
    {
     "data": {
      "text/plain": [
       "sepal_length    0\n",
       "sepal_width     0\n",
       "petal_length    0\n",
       "petal_width     0\n",
       "species         0\n",
       "dtype: int64"
      ]
     },
     "execution_count": 5,
     "metadata": {},
     "output_type": "execute_result"
    }
   ],
   "source": [
    "#Find the null, blank or N/A entries and sum them.\n",
    "df.isnull().sum()"
   ]
  },
  {
   "cell_type": "markdown",
   "metadata": {},
   "source": [
    "It can be seen that there are no null or blank entries so it can be assumed for this analysis that no data is missing.\n",
    "The exploration phase of the analysis is described in the next section."
   ]
  },
  {
   "cell_type": "markdown",
   "metadata": {},
   "source": [
    "## 4 Exploration <a name=\"exploration\"></a>\n",
    "The data is summarised using the **pairplot** functtion from the **seaborn** module:"
   ]
  },
  {
   "cell_type": "code",
   "execution_count": 6,
   "metadata": {
    "scrolled": false
   },
   "outputs": [
    {
     "data": {
      "text/plain": [
       "<seaborn.axisgrid.PairGrid at 0x23c53c35208>"
      ]
     },
     "execution_count": 6,
     "metadata": {},
     "output_type": "execute_result"
    },
    {
     "data": {
      "image/png": "[encoded data removed]",
      "text/plain": [
       "<Figure size 806.85x720 with 20 Axes>"
      ]
     },
     "metadata": {
      "needs_background": "light"
     },
     "output_type": "display_data"
    }
   ],
   "source": [
    "sns.pairplot(df, hue=\"species\", markers=[\"o\", \"x\", \"D\"])\n"
   ]
  },
  {
   "cell_type": "markdown",
   "metadata": {},
   "source": [
    "... as can be seen from the graphs:\n",
    "1. The distributions of the attributes for setosa, versicolor and virginica appear to approximate normal distributions. \n",
    "2. The average value for sepal length of virginica seems to be larger than for versicolor, which is larger than setosa.\n",
    "3. The average value for sepal width of setosa seems to be larger than for versicolor, which is approximately equal to virginica.\n",
    "4. The average value for virginica seems to be larger than for versicolor, which is much larger than setosa.\n",
    "\n",
    "However, in order to definitely answer the first question shown in section 2, more rigorous analysis must be conducted. In particular, the average values of the attributes of the specices of the flower are calculated in the next section."
   ]
  },
  {
   "cell_type": "markdown",
   "metadata": {},
   "source": [
    "### 4.1 Average values of attributes: <a name=\"41\"></a>\n",
    "The average values of the different species of Iris flower are calculated using the **mean** function:"
   ]
  },
  {
   "cell_type": "markdown",
   "metadata": {},
   "source": [
    "#### Setosa"
   ]
  },
  {
   "cell_type": "code",
   "execution_count": 7,
   "metadata": {
    "scrolled": false
   },
   "outputs": [
    {
     "data": {
      "text/plain": [
       "sepal_length    5.006\n",
       "sepal_width     3.418\n",
       "petal_length    1.464\n",
       "petal_width     0.244\n",
       "dtype: float64"
      ]
     },
     "execution_count": 7,
     "metadata": {},
     "output_type": "execute_result"
    }
   ],
   "source": [
    "df[df['species']=='setosa'].mean()"
   ]
  },
  {
   "cell_type": "markdown",
   "metadata": {},
   "source": [
    "#### Virginica"
   ]
  },
  {
   "cell_type": "code",
   "execution_count": 8,
   "metadata": {
    "scrolled": false
   },
   "outputs": [
    {
     "data": {
      "text/plain": [
       "sepal_length    6.588\n",
       "sepal_width     2.974\n",
       "petal_length    5.552\n",
       "petal_width     2.026\n",
       "dtype: float64"
      ]
     },
     "execution_count": 8,
     "metadata": {},
     "output_type": "execute_result"
    }
   ],
   "source": [
    "df[df['species']=='virginica'].mean()"
   ]
  },
  {
   "cell_type": "markdown",
   "metadata": {},
   "source": [
    "#### Versicolour"
   ]
  },
  {
   "cell_type": "code",
   "execution_count": 9,
   "metadata": {
    "scrolled": true
   },
   "outputs": [
    {
     "data": {
      "text/plain": [
       "sepal_length    5.936\n",
       "sepal_width     2.770\n",
       "petal_length    4.260\n",
       "petal_width     1.326\n",
       "dtype: float64"
      ]
     },
     "execution_count": 9,
     "metadata": {},
     "output_type": "execute_result"
    }
   ],
   "source": [
    "df[df['species']=='versicolor'].mean()"
   ]
  },
  {
   "cell_type": "markdown",
   "metadata": {},
   "source": [
    "Now the average values are calculated for each attribute for each species, the median and mode values can be calculated as follows:"
   ]
  },
  {
   "cell_type": "markdown",
   "metadata": {},
   "source": [
    "### 4.2 Median values of attributes <a name=\"42\"></a>"
   ]
  },
  {
   "cell_type": "markdown",
   "metadata": {},
   "source": [
    "The medians are calculated using the **median** function:"
   ]
  },
  {
   "cell_type": "markdown",
   "metadata": {},
   "source": [
    "#### Setosa"
   ]
  },
  {
   "cell_type": "code",
   "execution_count": 10,
   "metadata": {
    "scrolled": true
   },
   "outputs": [
    {
     "data": {
      "text/plain": [
       "sepal_length    5.0\n",
       "sepal_width     3.4\n",
       "petal_length    1.5\n",
       "petal_width     0.2\n",
       "dtype: float64"
      ]
     },
     "execution_count": 10,
     "metadata": {},
     "output_type": "execute_result"
    }
   ],
   "source": [
    "df[df['species']=='setosa'].median()"
   ]
  },
  {
   "cell_type": "markdown",
   "metadata": {},
   "source": [
    "#### Virginica"
   ]
  },
  {
   "cell_type": "code",
   "execution_count": 11,
   "metadata": {
    "scrolled": true
   },
   "outputs": [
    {
     "data": {
      "text/plain": [
       "sepal_length    6.50\n",
       "sepal_width     3.00\n",
       "petal_length    5.55\n",
       "petal_width     2.00\n",
       "dtype: float64"
      ]
     },
     "execution_count": 11,
     "metadata": {},
     "output_type": "execute_result"
    }
   ],
   "source": [
    "df[df['species']=='virginica'].median()"
   ]
  },
  {
   "cell_type": "markdown",
   "metadata": {},
   "source": [
    "#### Versicolour"
   ]
  },
  {
   "cell_type": "code",
   "execution_count": 12,
   "metadata": {
    "scrolled": false
   },
   "outputs": [
    {
     "data": {
      "text/plain": [
       "sepal_length    5.90\n",
       "sepal_width     2.80\n",
       "petal_length    4.35\n",
       "petal_width     1.30\n",
       "dtype: float64"
      ]
     },
     "execution_count": 12,
     "metadata": {},
     "output_type": "execute_result"
    }
   ],
   "source": [
    "df[df['species']=='versicolor'].median()"
   ]
  },
  {
   "cell_type": "markdown",
   "metadata": {},
   "source": [
    "### 4.3 Difference between medians and means <a name=\"43\"></a>"
   ]
  },
  {
   "cell_type": "markdown",
   "metadata": {},
   "source": [
    "The percentage difference between the means and the medians are calculated as follows:"
   ]
  },
  {
   "cell_type": "markdown",
   "metadata": {},
   "source": [
    "#### Setosa"
   ]
  },
  {
   "cell_type": "code",
   "execution_count": 13,
   "metadata": {
    "scrolled": false
   },
   "outputs": [
    {
     "data": {
      "text/plain": [
       "sepal_length     0.119856\n",
       "sepal_width      0.526624\n",
       "petal_length    -2.459016\n",
       "petal_width     18.032787\n",
       "dtype: float64"
      ]
     },
     "execution_count": 13,
     "metadata": {},
     "output_type": "execute_result"
    }
   ],
   "source": [
    "100* (df[df['species']=='setosa'].mean() - df[df['species']=='setosa'].median())/(df[df['species']=='setosa'].mean())"
   ]
  },
  {
   "cell_type": "markdown",
   "metadata": {},
   "source": [
    "#### Virginica"
   ]
  },
  {
   "cell_type": "code",
   "execution_count": 14,
   "metadata": {
    "scrolled": true
   },
   "outputs": [
    {
     "data": {
      "text/plain": [
       "sepal_length    1.335762\n",
       "sepal_width    -0.874243\n",
       "petal_length    0.036023\n",
       "petal_width     1.283317\n",
       "dtype: float64"
      ]
     },
     "execution_count": 14,
     "metadata": {},
     "output_type": "execute_result"
    }
   ],
   "source": [
    "100* (df[df['species']=='virginica'].mean() - df[df['species']=='virginica'].median())/(df[df['species']=='virginica'].mean())"
   ]
  },
  {
   "cell_type": "markdown",
   "metadata": {},
   "source": [
    "#### Versicolour"
   ]
  },
  {
   "cell_type": "code",
   "execution_count": 15,
   "metadata": {
    "scrolled": true
   },
   "outputs": [
    {
     "data": {
      "text/plain": [
       "sepal_length    0.606469\n",
       "sepal_width    -1.083032\n",
       "petal_length   -2.112676\n",
       "petal_width     1.960784\n",
       "dtype: float64"
      ]
     },
     "execution_count": 15,
     "metadata": {},
     "output_type": "execute_result"
    }
   ],
   "source": [
    "100* (df[df['species']=='versicolor'].mean() - df[df['species']=='versicolor'].median())/(df[df['species']=='versicolor'].mean())"
   ]
  },
  {
   "cell_type": "markdown",
   "metadata": {},
   "source": [
    "For most of the values, the difference between the mean and the median is small or neglible which indicates that the attributes  approximate the normal distribution (a perfect normal distribution would have the same value for mean and median). There is a -2% difference between the mean and median for versicolour and setosa petal length which indicates that the distribution is slightly left-skewed but still a good approximation to the normal distribution. For setosa petal width, there is an 18% difference between the mean and the median indicating a moderate skew to the right. This calls into question whether petal width for setosa is a good approximation to the normal distribution.\n",
    "\n",
    "In order to rigorously test whether the attribute are normally distrbuted, the Shapiro-Wilk test is employed:"
   ]
  },
  {
   "cell_type": "markdown",
   "metadata": {},
   "source": [
    "### 4.4 Shapiro-Wilk test for normality <a name=\"44\"></a>\n",
    "This test works by setting a cut-off value (in this case 0.05). The test is performed on the data. If the p-value extracted from the test exceeds alpha, then we cannot reject the null hypothesis that the sample approximates a normal or Gaussian distribution. Otherwise, we can safely reject the null hypothesis and say the distribution is not normal.\n",
    "The test is conducted for the attributes of all species of Iris flower by writing an appropriate function:"
   ]
  },
  {
   "cell_type": "code",
   "execution_count": 16,
   "metadata": {},
   "outputs": [],
   "source": [
    "# Function to perform Shapiro-Wilk test for normality on attributes of flowers in data set\n",
    "def shapiro_test(attribute, sp):\n",
    "    alpha = 0.05\n",
    "    data = df[df['species']==sp][attribute]\n",
    "    stat, p = shapiro(data)\n",
    "    print(\"test statistic: {}, p-value: {}\".format(stat, p))\n",
    "    if p > alpha:\n",
    "        print(\"Null hypothesis is not rejected, sample approximates normal distribution\")\n",
    "    else:\n",
    "        print(\"Null hypothesis is rejected, sample does not approximate normal distribution\")"
   ]
  },
  {
   "cell_type": "markdown",
   "metadata": {},
   "source": [
    "#### Setosa"
   ]
  },
  {
   "cell_type": "code",
   "execution_count": 82,
   "metadata": {
    "scrolled": false
   },
   "outputs": [
    {
     "name": "stdout",
     "output_type": "stream",
     "text": [
      "test statistic: 0.9549458622932434, p-value: 0.05464918911457062\n",
      "Null hypothesis is not rejected, sample approximates normal distribution\n"
     ]
    }
   ],
   "source": [
    "shapiro_test(\"petal_length\", \"setosa\")"
   ]
  },
  {
   "cell_type": "code",
   "execution_count": 83,
   "metadata": {
    "scrolled": false
   },
   "outputs": [
    {
     "name": "stdout",
     "output_type": "stream",
     "text": [
      "test statistic: 0.8138170838356018, p-value: 1.8525804534874624e-06\n",
      "Null hypothesis is rejected, sample does not approximate normal distribution\n"
     ]
    }
   ],
   "source": [
    "shapiro_test(\"petal_width\", \"setosa\")"
   ]
  },
  {
   "cell_type": "code",
   "execution_count": 19,
   "metadata": {
    "scrolled": false
   },
   "outputs": [
    {
     "name": "stdout",
     "output_type": "stream",
     "text": [
      "test statistic: 0.9776989221572876, p-value: 0.4595281183719635\n",
      "Null hypothesis is not rejected, sample approximates normal distribution\n"
     ]
    }
   ],
   "source": [
    "shapiro_test(\"sepal_length\", \"setosa\")"
   ]
  },
  {
   "cell_type": "code",
   "execution_count": 20,
   "metadata": {
    "scrolled": false
   },
   "outputs": [
    {
     "name": "stdout",
     "output_type": "stream",
     "text": [
      "test statistic: 0.968691885471344, p-value: 0.20465604960918427\n",
      "Null hypothesis is not rejected, sample approximates normal distribution\n"
     ]
    }
   ],
   "source": [
    "shapiro_test(\"sepal_width\", \"setosa\")"
   ]
  },
  {
   "cell_type": "markdown",
   "metadata": {},
   "source": [
    "#### Virginica"
   ]
  },
  {
   "cell_type": "code",
   "execution_count": 21,
   "metadata": {
    "scrolled": true
   },
   "outputs": [
    {
     "name": "stdout",
     "output_type": "stream",
     "text": [
      "test statistic: 0.9621862769126892, p-value: 0.10977369546890259\n",
      "Null hypothesis is not rejected, sample approximates normal distribution\n"
     ]
    }
   ],
   "source": [
    "shapiro_test(\"petal_length\", \"virginica\")"
   ]
  },
  {
   "cell_type": "code",
   "execution_count": 22,
   "metadata": {
    "scrolled": true
   },
   "outputs": [
    {
     "name": "stdout",
     "output_type": "stream",
     "text": [
      "test statistic: 0.9597718715667725, p-value: 0.08695744723081589\n",
      "Null hypothesis is not rejected, sample approximates normal distribution\n"
     ]
    }
   ],
   "source": [
    "shapiro_test(\"petal_width\", \"virginica\")"
   ]
  },
  {
   "cell_type": "code",
   "execution_count": 23,
   "metadata": {
    "scrolled": true
   },
   "outputs": [
    {
     "name": "stdout",
     "output_type": "stream",
     "text": [
      "test statistic: 0.9711798429489136, p-value: 0.25832483172416687\n",
      "Null hypothesis is not rejected, sample approximates normal distribution\n"
     ]
    }
   ],
   "source": [
    "shapiro_test(\"sepal_length\", \"virginica\")"
   ]
  },
  {
   "cell_type": "code",
   "execution_count": 24,
   "metadata": {
    "scrolled": true
   },
   "outputs": [
    {
     "name": "stdout",
     "output_type": "stream",
     "text": [
      "test statistic: 0.9673910140991211, p-value: 0.1809043288230896\n",
      "Null hypothesis is not rejected, sample approximates normal distribution\n"
     ]
    }
   ],
   "source": [
    "shapiro_test(\"sepal_width\", \"virginica\")"
   ]
  },
  {
   "cell_type": "markdown",
   "metadata": {},
   "source": [
    "#### Versicolour"
   ]
  },
  {
   "cell_type": "code",
   "execution_count": 25,
   "metadata": {
    "scrolled": false
   },
   "outputs": [
    {
     "name": "stdout",
     "output_type": "stream",
     "text": [
      "test statistic: 0.9660047888755798, p-value: 0.1584833413362503\n",
      "Null hypothesis is not rejected, sample approximates normal distribution\n"
     ]
    }
   ],
   "source": [
    "shapiro_test(\"petal_length\", \"versicolor\")"
   ]
  },
  {
   "cell_type": "code",
   "execution_count": 26,
   "metadata": {
    "scrolled": false
   },
   "outputs": [
    {
     "name": "stdout",
     "output_type": "stream",
     "text": [
      "test statistic: 0.947626531124115, p-value: 0.027278218418359756\n",
      "Null hypothesis is rejected, sample does not approximate normal distribution\n"
     ]
    }
   ],
   "source": [
    "shapiro_test(\"petal_width\", \"versicolor\")"
   ]
  },
  {
   "cell_type": "code",
   "execution_count": 27,
   "metadata": {
    "scrolled": false
   },
   "outputs": [
    {
     "name": "stdout",
     "output_type": "stream",
     "text": [
      "test statistic: 0.9778355956077576, p-value: 0.46473264694213867\n",
      "Null hypothesis is not rejected, sample approximates normal distribution\n"
     ]
    }
   ],
   "source": [
    "shapiro_test(\"sepal_length\", \"versicolor\")"
   ]
  },
  {
   "cell_type": "code",
   "execution_count": 28,
   "metadata": {
    "scrolled": true
   },
   "outputs": [
    {
     "name": "stdout",
     "output_type": "stream",
     "text": [
      "test statistic: 0.9741330742835999, p-value: 0.33798879384994507\n",
      "Null hypothesis is not rejected, sample approximates normal distribution\n"
     ]
    }
   ],
   "source": [
    "shapiro_test(\"sepal_width\", \"versicolor\")"
   ]
  },
  {
   "cell_type": "markdown",
   "metadata": {},
   "source": [
    "All but two datasets pass the test of normality, which is expected by the shape of the distributions in the plots shown at the beginning of this section. The only two datasets that fail the test of normality are the versicolor petal widths and the setosa petal widths. The setosa petal widths had a relatively large difference between the mean and the median so it is expected that they would fail the test for normality. The difference between the mean and the median for versicolor petal width was only 2% however, so it is surprising that that distribution fails the test of normality when other datasets with larger differences passed.\n",
    "\n",
    "It is also desirable to ascertain the difference between the means for each species of flower for each attribute. This is done in the following section."
   ]
  },
  {
   "cell_type": "markdown",
   "metadata": {},
   "source": [
    "### 4.5 Difference between means <a name=\"45\"></a>\n",
    "The difference between the means are calculated with the **mean** function:"
   ]
  },
  {
   "cell_type": "code",
   "execution_count": 39,
   "metadata": {},
   "outputs": [
    {
     "data": {
      "text/plain": [
       "sepal_length    0.930\n",
       "sepal_width    -0.648\n",
       "petal_length    2.796\n",
       "petal_width     1.082\n",
       "dtype: float64"
      ]
     },
     "execution_count": 39,
     "metadata": {},
     "output_type": "execute_result"
    }
   ],
   "source": [
    "df[df['species']=='versicolor'].mean() - df[df['species']=='setosa'].mean() "
   ]
  },
  {
   "cell_type": "code",
   "execution_count": 41,
   "metadata": {},
   "outputs": [
    {
     "data": {
      "text/plain": [
       "sepal_length    1.582\n",
       "sepal_width    -0.444\n",
       "petal_length    4.088\n",
       "petal_width     1.782\n",
       "dtype: float64"
      ]
     },
     "execution_count": 41,
     "metadata": {},
     "output_type": "execute_result"
    }
   ],
   "source": [
    "df[df['species']=='virginica'].mean() - df[df['species']=='setosa'].mean() "
   ]
  },
  {
   "cell_type": "code",
   "execution_count": 42,
   "metadata": {
    "scrolled": true
   },
   "outputs": [
    {
     "data": {
      "text/plain": [
       "sepal_length    0.652\n",
       "sepal_width     0.204\n",
       "petal_length    1.292\n",
       "petal_width     0.700\n",
       "dtype: float64"
      ]
     },
     "execution_count": 42,
     "metadata": {},
     "output_type": "execute_result"
    }
   ],
   "source": [
    "df[df['species']=='virginica'].mean() - df[df['species']=='versicolor'].mean() "
   ]
  },
  {
   "cell_type": "markdown",
   "metadata": {},
   "source": [
    "These results indicate that:\n",
    "1. Versicolor has larger sepal length, petal length and petal width than setosa but smaller sepal width.\n",
    "2. Virginica has larger sepal length, petal length and petal width than setosa but smaller sepal width\n",
    "3. Virginica has larger sepal length, sepal width, petal length and petal width than versicolor.\n",
    "\n",
    "It must be determined if these difference are statistically significant i.e. whether these differences are due to sampling error or reflect real differences in the means. This is done by performing an independant samples t-test and is done in the next section:"
   ]
  },
  {
   "cell_type": "markdown",
   "metadata": {},
   "source": [
    "### 4.6 Test for statistical significance <a name=\"46\"></a>\n",
    "The appropriate test for significance for the difference between means between two independant groups is the independant t-test. In order to conduct the t-test, it is necessary that the variances are homogeneous and that the dependant variable is normally distrbuted within each group. This technically means that the test is not appropriate for versicolor petal widths and the setosa petal widths as it was previously shown that they fail the Shapiro-Wilk test for normality. However, the independant t-test is robust to moderate violations of normality and homogenity as long as:\n",
    "\n",
    "1. The sample sizes are the same. [4](#ref4)\n",
    "2. The sample size of each group is greater than or equal to 30.\n",
    "\n",
    "Each and every attribute has 50 data points for each species of Iris flower so both these conditions are met. Judging by the histograms at the beginning of section 4, the violations of normality for versicolor and setosa petal widths are small because the distributions physically resemble normal distributions. As such, the independant t-test will be conducted for every group.\n",
    "\n",
    "The t-test produces test statistics and p-value. When the p-value is less than 0.05, than we can reject the null hypothesis that the means are equal. if it is greater than or equal to 0.05, than we cannot reject the null hypothesis that the means are the same.\n",
    "\n",
    "The function to perform the test for two independant groups is defined as follows:"
   ]
  },
  {
   "cell_type": "code",
   "execution_count": 79,
   "metadata": {},
   "outputs": [],
   "source": [
    "def ind_test(group1, group2):\n",
    "     #Independant two sample t-test for difference between means of groups with difference variances\n",
    "     print (\"Independent two sample t-test for groups with different means: \")\n",
    "     print (stats.ttest_ind(group1, group2, equal_var = False, nan_policy= 'omit'))\n",
    "     #Degrees of freedom\n",
    "     print (\"Degrees of freedom: \")\n",
    "     print (len(group1) + len(group2) - 1)"
   ]
  },
  {
   "cell_type": "markdown",
   "metadata": {},
   "source": [
    "For 3 independant groups, a one-way ANOVA table is generated. The code to generate the table is as follows:"
   ]
  },
  {
   "cell_type": "code",
   "execution_count": 80,
   "metadata": {},
   "outputs": [],
   "source": [
    "def anova_table(group1, group2, group3):\n",
    "    #One way AnoVA table\n",
    "    print (\"One way ANOVA table: \")\n",
    "    print (stats.f_oneway(group1, group2, group3))\n",
    "    #Degrees of freedom 1\n",
    "    print (\"Df1: \")\n",
    "    print (len(group1)+len(group2)-1)\n",
    "    #Degrees of freedom 2\n",
    "    print (\"Df2: \")\n",
    "    print (len(group1) +len(group2)-2)"
   ]
  },
  {
   "cell_type": "markdown",
   "metadata": {},
   "source": [
    "These tests are used to see if the difference between the means are statistically significant:"
   ]
  },
  {
   "cell_type": "code",
   "execution_count": 81,
   "metadata": {
    "scrolled": true
   },
   "outputs": [
    {
     "name": "stdout",
     "output_type": "stream",
     "text": [
      "One way ANOVA table: \n",
      "F_onewayResult(statistic=array([ 119.26450218,   47.3644614 , 1179.0343277 ,  959.32440573]), pvalue=array([1.66966919e-31, 1.32791652e-16, 3.05197580e-91, 4.37695696e-85]))\n",
      "Df1: \n",
      "99\n",
      "Df2: \n",
      "98\n"
     ]
    }
   ],
   "source": [
    "# create three dataframes for each species without the species column\n",
    "df1 = df[df['species']=='virginica'].drop(columns=['species'])\n",
    "df2 = df[df['species']=='setosa'].drop(columns=['species'])\n",
    "df3 = df[df['species']=='versicolor'].drop(columns=['species'])\n",
    "# Generate anova table for all 4 attributes at once\n",
    "anova_table(df1, df2, df3)"
   ]
  },
  {
   "cell_type": "markdown",
   "metadata": {},
   "source": [
    "The results show that all the p-values are much less than 0.05. This means that the null hypothesis that the means are the same for all 4 attributes (petal length, petal width, sepal lengtha and sepal width) can be rejected.\n",
    "\n",
    "Overall, several conclusions can be made from this report:"
   ]
  },
  {
   "cell_type": "markdown",
   "metadata": {},
   "source": [
    "## 5 Conclusions  <a name=\"conclusions\"></a>\n",
    "The following conclusions can be made from the preceding data analysis:\n",
    "\n",
    "1. What the average or mean values are for each attribute for each species of flower (present in full in mean.txt)\n",
    "2. What the median values are for each attribute for each species of flower (present in full in median.txt)\n",
    "3. The difference between the mean and the median values is mostly small or negligble except setosa petal width which has a moderate ifference between its mean and median.\n",
    "4. All but two of the attributes for each species is flower is normally distributed (the two datasets that fail the test for normality are versicolor petal widths and setosa petal widths)\n",
    "5. What the difference between the means are for each species of flower (present in full in mean_differences.txt)\n",
    "6. The differences between the means are statistically significant and unlikely to be due to sampling error.\n",
    "\n",
    "Further study can be done using machine learning. In particular, a classification algorithm such as decision trees can be used to predict the species of flower based on this dataset."
   ]
  },
  {
   "cell_type": "markdown",
   "metadata": {},
   "source": [
    "## 6 Bibliography <a name=\"bibliography\"></a>"
   ]
  },
  {
   "cell_type": "markdown",
   "metadata": {},
   "source": [
    "[1] Bari, A. et al. Predictive Analytics For Dummies.. Wiley, 2016. <a name=\"ref1\"></a>\n",
    "\n",
    "[2] Nelli, F.. Python Data Analytics: Data Analysis and Science using pandas, matplotlib and the Python Programming Language.. Apress, 2015. <a name=\"ref2\"></a>\n",
    "\n",
    "[3] Archive.ics.uci.edu, http://archive.ics.uci.edu/ml/machine-learning-databases/iris/iris.data <a name=\"ref3\"></a>\n",
    "\n",
    "[4] Pagano, R.R.. Understanding Statistics in the Behavioral Sciences.., 339, Cengage Learning, 2012. <a name=\"ref4\"></a>\n",
    " \n"
   ]
  },
  {
   "cell_type": "code",
   "execution_count": null,
   "metadata": {},
   "outputs": [],
   "source": []
  }
 ],
 "metadata": {
  "kernelspec": {
   "display_name": "Python 3",
   "language": "python",
   "name": "python3"
  },
  "language_info": {
   "codemirror_mode": {
    "name": "ipython",
    "version": 3
   },
   "file_extension": ".py",
   "mimetype": "text/x-python",
   "name": "python",
   "nbconvert_exporter": "python",
   "pygments_lexer": "ipython3",
   "version": "3.7.4"
  }
 },
 "nbformat": 4,
 "nbformat_minor": 2
}
